{
 "cells": [
  {
   "cell_type": "code",
   "execution_count": null,
   "id": "46ed47cb",
   "metadata": {},
   "outputs": [],
   "source": [
    "# get all download files column\n",
    "import os\n",
    "import sys\n",
    "import pandas as pd\n",
    "\n",
    "covar_field_list = [\"p31\", \"p34\"]\n",
    "genetic_field_list = [\"p22009_a1\", \"p22009_a2\", \"p22009_a3\", \"p22009_a4\", \"p22009_a5\", \"p22009_a6\", \"p22009_a7\", \"p22009_a8\", \"p22009_a9\", \"p22009_a10\", \"p22009_a11\", \"p22009_a12\", \"p22009_a13\", \"p22009_a14\", \"p22009_a15\", \"p22009_a16\", \"p22009_a17\", \"p22009_a18\", \"p22009_a19\", \"p22009_a20\"]\n",
    "\n",
    "white_british_eid_path = \"/p300s/jiapl_group/lishuhua/UKB/Cohort/white_british_sample_ids.txt\"\n",
    "covar_path = \"/p300s/jiapl_group/lishuhua/UKB/Phenotype/fields/core_category/fields_group_1.tsv\"\n",
    "genetic_path = \"/p300s/jiapl_group/lishuhua/UKB/Phenotype/fields/third_category/third_group_6.tsv\"\n",
    "output_path = \"/p300s/jiapl_group/lishuhua/PRS_benchmark/real_data/UKB/EUR/pheno/\"\n",
    "\n",
    "white_british = pd.read_csv(white_british_eid_path, sep='\\t', header=None, names=[\"FID\", \"IID\"])\n",
    "white_british.columns = [\"FID\", \"eid\"]\n",
    "# use covar_field_list to get the columns in covar\n",
    "covar = pd.read_csv(covar_path, sep=\"\\t\", usecols=[\"eid\"] + covar_field_list)\n",
    "# use genetic_field_list to get the columns in genetic\n",
    "genetic = pd.read_csv(genetic_path, sep=\"\\t\", usecols=[\"eid\"] + genetic_field_list)\n",
    "# merge white_british, covar, and genetic\n",
    "merged = pd.merge(white_british, covar, on=\"eid\", how=\"left\")\n",
    "merged = pd.merge(merged, genetic, on=\"eid\", how=\"left\")\n",
    "\n",
    "merged.to_csv(output_path + \"covar_20pcs.tsv\", sep=\"\\t\", index=False, header=True)"
   ]
  }
 ],
 "metadata": {
  "language_info": {
   "name": "python"
  }
 },
 "nbformat": 4,
 "nbformat_minor": 5
}
