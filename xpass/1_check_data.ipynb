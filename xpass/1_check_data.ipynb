{
 "cells": [
  {
   "cell_type": "code",
   "execution_count": null,
   "id": "b575996a",
   "metadata": {},
   "outputs": [],
   "source": [
    "# Step1: check if all summary files have NA value\n",
    "import os\n",
    "import sys\n",
    "import pandas as pd\n",
    "\n",
    "def check_na_in_summary_files(directory):\n",
    "    \"\"\"\n",
    "    Check if all summary files in the given directory have NA values.\n",
    "    \n",
    "    Args:\n",
    "        directory (str): The path to the directory containing summary files.\n",
    "    \n",
    "    Returns:\n",
    "        bool: True if all files have NA values, False otherwise.\n",
    "    \"\"\"\n",
    "    for filename in os.listdir(directory):\n",
    "        if filename.endswith('.txt'):\n",
    "            file_path = os.path.join(directory, filename)\n",
    "            df = pd.read_csv(file_path, sep='\\t')\n",
    "            if df.isna().any().any():\n",
    "                print(f\"File {filename} does contain any NA values.\")\n",
    "                return False\n",
    "    return True\n",
    "\n",
    "if __name__ == \"__main__\":\n",
    "    eur_dir = \"/data1/jiapl_group/lishuhua/project/PRS_benchmark/software/xpass/train/EUR/\"\n",
    "    eas_dir = \"/data1/jiapl_group/lishuhua/project/PRS_benchmark/software/xpass/train/EAS/\"\n",
    "\n",
    "    if not check_na_in_summary_files(eur_dir):\n",
    "        print(\"There are EUR summary files have NA values.\")\n",
    "        sys.exit(1)\n",
    "    if not check_na_in_summary_files(eas_dir):\n",
    "        print(\"There EAS summary files have NA values.\")\n",
    "        sys.exit(1)"
   ]
  },
  {
   "cell_type": "code",
   "execution_count": null,
   "id": "07f04775",
   "metadata": {},
   "outputs": [],
   "source": []
  }
 ],
 "metadata": {
  "language_info": {
   "name": "python"
  }
 },
 "nbformat": 4,
 "nbformat_minor": 5
}
