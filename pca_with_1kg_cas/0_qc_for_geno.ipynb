{
 "cells": [
  {
   "cell_type": "code",
   "execution_count": null,
   "id": "76573a57",
   "metadata": {},
   "outputs": [],
   "source": [
    "# step1: strict QC for each cohort (UKB_EAS, CAS, 1KG)\n",
    "# for UKB_EAS\n",
    "# plink --bfile merged --geno 0.02 --mind 0.02 --maf 0.05 --hwe 1e-6 --autosome --make-bed --out UKB_EAS_qc\n",
    "# for CAS\n",
    "# plink --bfile CAS_final/CAS_merged_qc_final --geno 0.02 --mind 0.02 --hwe 1e-6 --maf 0.05 --autosome --make-bed --out CAS_for_PCA/CAS_qc\n",
    "# for 1KG\n",
    "# process 1kG .pgen/.pvar/.psam files\n",
    "# plink2 --zst-decompress all_phase3.pgen.zst all_phase3.pgen\n",
    "# plink2 --zst-decompress all_phase3.pvar.zst all_phase3.pvar\n",
    "# plink2 --pfile all_phase3 --remove deg2_phase3.king.cutoff.out.id --max-alleles 2 --make-bed --out all_phase3\n",
    "# plink --bfile all_phase3 --geno 0.02 --mind 0.02 --hwe 1e-6 --maf 0.05 --allow-extra-chr --make-bed --out ../geno_for_PCA/all_phase3_qc\n",
    "# remove non-autosomal chromosomes\n",
    "# awk '$1==\"PAR1\" || $1==\"PAR2\" {print $2}' /data1/jiapl_group/lishuhua/project/PRS_benchmark/real_data/1kg/geno/geno_for_PCA/all_phase3_qc.bim > /data1/jiapl_group/lishuhua/project/PRS_benchmark/real_data/1kg/geno/geno_for_PCA/snps_to_exclude_par.txt\n",
    "# plink --bfile /data1/jiapl_group/lishuhua/project/PRS_benchmark/real_data/1kg/geno/geno_for_PCA/all_phase3_qc --exclude /data1/jiapl_group/lishuhua/project/PRS_benchmark/real_data/1kg/geno/geno_for_PCA/snps_to_exclude_par.txt --allow-extra-chr --make-bed --out /data1/jiapl_group/lishuhua/project/PRS_benchmark/real_data/1kg/geno/geno_for_PCA/all_phase3_qc_no_par\n",
    "# plink --bfile /data1/jiapl_group/lishuhua/project/PRS_benchmark/real_data/1kg/geno/geno_for_PCA/all_phase3_qc_no_par --autosome --make-bed --out /data1/jiapl_group/lishuhua/project/PRS_benchmark/real_data/1kg/geno/geno_for_PCA/all_phase3_qc_auto_only\n",
    "\n",
    "# step2: remove all duplicated SNPs in each cohort\n",
    "# for UKB_EAS\n",
    "# awk '{print $1\":\"$4}' /data1/jiapl_group/lishuhua/project/PRS_benchmark/real_data/UKB/geno/Chinese_for_PCA/UKB_EAS_qc.bim | sort | uniq -c | awk '$1 > 1 {print $2}' > /data1/jiapl_group/lishuhua/project/PRS_benchmark/real_data/UKB/geno/Chinese_for_PCA/UKB_EAS_qc.dupSNPs.txt\n",
    "# awk 'NR==FNR {a[$1]; next} ($1\":\"$4) in a {print $2}' /data1/jiapl_group/lishuhua/project/PRS_benchmark/real_data/UKB/geno/Chinese_for_PCA/UKB_EAS_qc.dupSNPs.txt /data1/jiapl_group/lishuhua/project/PRS_benchmark/real_data/UKB/geno/Chinese_for_PCA/UKB_EAS_qc.bim > /data1/jiapl_group/lishuhua/project/PRS_benchmark/real_data/UKB/geno/Chinese_for_PCA/UKB_EAS_snps_to_exclude_dups.txt\n",
    "# plink --bfile /data1/jiapl_group/lishuhua/project/PRS_benchmark/real_data/UKB/geno/Chinese_for_PCA/UKB_EAS_qc --exclude /data1/jiapl_group/lishuhua/project/PRS_benchmark/real_data/UKB/geno/Chinese_for_PCA/UKB_EAS_snps_to_exclude_dups.txt --make-bed --out /data1/jiapl_group/lishuhua/project/PRS_benchmark/real_data/UKB/geno/Chinese_for_PCA/UKB_EAS_qc_no_dups\n",
    "\n",
    "# for CAS\n",
    "# awk '{print $1\":\"$4}' /data1/jiapl_group/lishuhua/project/PRS_benchmark/real_data/CAS/geno/CAS_for_PCA/CAS_qc.bim | sort | uniq -c | awk '$1 > 1 {print $2}' > /data1/jiapl_group/lishuhua/project/PRS_benchmark/real_data/CAS/geno/CAS_for_PCA/CAS_qc.dupSNPs.txt\n",
    "# awk 'NR==FNR {a[$1]; next} ($1\":\"$4) in a {print $2}' /data1/jiapl_group/lishuhua/project/PRS_benchmark/real_data/CAS/geno/CAS_for_PCA/CAS_qc.dupSNPs.txt /data1/jiapl_group/lishuhua/project/PRS_benchmark/real_data/CAS/geno/CAS_for_PCA/CAS_qc.bim > /data1/jiapl_group/lishuhua/project/PRS_benchmark/real_data/CAS/geno/CAS_for_PCA/CAS_snps_to_exclude_dups.txt\n",
    "# plink --bfile /data1/jiapl_group/lishuhua/project/PRS_benchmark/real_data/CAS/geno/CAS_for_PCA/CAS_qc --exclude /data1/jiapl_group/lishuhua/project/PRS_benchmark/real_data/CAS/geno/CAS_for_PCA/CAS_snps_to_exclude_dups.txt --make-bed --out /data1/jiapl_group/lishuhua/project/PRS_benchmark/real_data/CAS/geno/CAS_for_PCA/CAS_qc_no_dups\n",
    "\n",
    "# for 1KG\n",
    "# awk '{print $1\":\"$4}' /data1/jiapl_group/lishuhua/project/PRS_benchmark/real_data/1kg/geno/geno_for_PCA/all_phase3_qc_auto_only.bim | sort | uniq -c | awk '$1 > 1 {print $2}' > /data1/jiapl_group/lishuhua/project/PRS_benchmark/real_data/1kg/geno/geno_for_PCA/all_phase3_qc_auto_only.dupSNPs.txt\n",
    "# awk 'NR==FNR {a[$1]; next} ($1\":\"$4) in a {print $2}' /data1/jiapl_group/lishuhua/project/PRS_benchmark/real_data/1kg/geno/geno_for_PCA/all_phase3_qc_auto_only.dupSNPs.txt /data1/jiapl_group/lishuhua/project/PRS_benchmark/real_data/1kg/geno/geno_for_PCA/all_phase3_qc_auto_only.bim > /data1/jiapl_group/lishuhua/project/PRS_benchmark/real_data/1kg/geno/geno_for_PCA/all_phase3_snps_to_exclude_dups.txt\n",
    "# plink --bfile /data1/jiapl_group/lishuhua/project/PRS_benchmark/real_data/1kg/geno/geno_for_PCA/all_phase3_qc_auto_only --exclude /data1/jiapl_group/lishuhua/project/PRS_benchmark/real_data/1kg/geno/geno_for_PCA/all_phase3_snps_to_exclude_dups.txt --make-bed --out /data1/jiapl_group/lishuhua/project/PRS_benchmark/real_data/1kg/geno/geno_for_PCA/all_phase3_qc_no_dups"
   ]
  },
  {
   "cell_type": "code",
   "execution_count": null,
   "id": "dc39f45f",
   "metadata": {},
   "outputs": [],
   "source": [
    "# step3: remove all duplicated SNPs across cohorts\n",
    "import pandas as pd\n",
    "import sys\n",
    "\n",
    "# 检查命令行参数\n",
    "if len(sys.argv) != 4:\n",
    "    print(\"Usage: python find_incompatible_snps.py <bim_file1> <bim_file2> <bim_file3>\")\n",
    "    sys.exit(1)\n",
    "\n",
    "# 读取三个bim文件\n",
    "try:\n",
    "    bim1 = pd.read_csv(sys.argv[1], sep='\\t', header=None, names=['CHR', 'SNP', 'CM', 'POS', 'A1', 'A2'])\n",
    "    bim2 = pd.read_csv(sys.argv[2], sep='\\t', header=None, names=['CHR', 'SNP', 'CM', 'POS', 'A1', 'A2'])\n",
    "    bim3 = pd.read_csv(sys.argv[3], sep='\\t', header=None, names=['CHR', 'SNP', 'CM', 'POS', 'A1', 'A2'])\n",
    "except FileNotFoundError as e:\n",
    "    print(f\"Error: {e}\")\n",
    "    sys.exit(1)\n",
    "\n",
    "# 创建一个唯一的CHR:POS标识符\n",
    "bim1['pos_id'] = bim1['CHR'].astype(str) + ':' + bim1['POS'].astype(str)\n",
    "bim2['pos_id'] = bim2['CHR'].astype(str) + ':' + bim2['POS'].astype(str)\n",
    "bim3['pos_id'] = bim3['CHR'].astype(str) + ':' + bim3['POS'].astype(str)\n",
    "\n",
    "# 创建一个字典来存储每个位置的等位基因信息\n",
    "pos_alleles = {}\n",
    "\n",
    "# 填充字典\n",
    "for _, row in pd.concat([bim1, bim2, bim3]).iterrows():\n",
    "    pos_id = row['pos_id']\n",
    "    alleles = frozenset([row['A1'], row['A2']]) # 使用frozenset来忽略顺序\n",
    "    if pos_id not in pos_alleles:\n",
    "        pos_alleles[pos_id] = set()\n",
    "    pos_alleles[pos_id].add(alleles)\n",
    "\n",
    "# 找出存在多种不同等位基因组合的位置\n",
    "incompatible_pos = {pos for pos, allele_sets in pos_alleles.items() if len(allele_sets) > 1}\n",
    "\n",
    "# 输出不兼容的位置ID，用于后续PLINK排除\n",
    "for pos in incompatible_pos:\n",
    "    print(pos)"
   ]
  },
  {
   "cell_type": "code",
   "execution_count": null,
   "id": "2c94cfe5",
   "metadata": {},
   "outputs": [],
   "source": [
    "# step3: remove all duplicated SNPs across cohorts\n",
    "# python find_incompatible_snps.py /data1/jiapl_group/lishuhua/project/PRS_benchmark/real_data/UKB/geno/Chinese_for_PCA/UKB_EAS_qc_no_dups.bim /data1/jiapl_group/lishuhua/project/PRS_benchmark/real_data/CAS/geno/CAS_for_PCA/CAS_qc_no_dups.bim /data1/jiapl_group/lishuhua/project/PRS_benchmark/real_data/1kg/geno/geno_for_PCA/all_phase3_qc_no_dups.bim > incompatible_snps.txt\n",
    "# for UKB_EAS, CAS, 1KG, we need to exclude the incompatible SNPs\n",
    "# for UKB_EAS\n",
    "# awk 'NR==FNR {a[$1]; next} ($1\":\"$4) in a {print $2}' /data1/jiapl_group/lishuhua/project/PRS_benchmark/code/real_data/pca_code/incompatible_snps.txt /data1/jiapl_group/lishuhua/project/PRS_benchmark/real_data/UKB/geno/Chinese_for_PCA/UKB_EAS_qc_no_dups.bim > /data1/jiapl_group/lishuhua/project/PRS_benchmark/real_data/UKB/geno/Chinese_for_PCA/incompatible_snps_to_exclude.txt\n",
    "# for CAS\n",
    "# awk 'NR==FNR {a[$1]; next} ($1\":\"$4) in a {print $2}' /data1/jiapl_group/lishuhua/project/PRS_benchmark/code/real_data/pca_code/incompatible_snps.txt /data1/jiapl_group/lishuhua/project/PRS_benchmark/real_data/CAS/geno/CAS_for_PCA/CAS_qc_no_dups.bim > /data1/jiapl_group/lishuhua/project/PRS_benchmark/real_data/CAS/geno/CAS_for_PCA/incompatible_snps_to_exclude.txt\n",
    "# for 1KG\n",
    "# awk 'NR==FNR {a[$1]; next} ($1\":\"$4) in a {print $2}' /data1/jiapl_group/lishuhua/project/PRS_benchmark/code/real_data/pca_code/incompatible_snps.txt /data1/jiapl_group/lishuhua/project/PRS_benchmark/real_data/1kg/geno/geno_for_PCA/all_phase3_qc_no_dups.bim > /data1/jiapl_group/lishuhua/project/PRS_benchmark/real_data/1kg/geno/geno_for_PCA/incompatible_snps_to_exclude.txt\n",
    "\n",
    "# remove incompatible SNPs from each cohort\n",
    "# for UKB_EAS\n",
    "# plink --bfile /data1/jiapl_group/lishuhua/project/PRS_benchmark/real_data/UKB/geno/Chinese_for_PCA/UKB_EAS_qc_no_dups --exclude /data1/jiapl_group/lishuhua/project/PRS_benchmark/real_data/UKB/geno/Chinese_for_PCA/incompatible_snps_to_exclude.txt --make-bed --out /data1/jiapl_group/lishuhua/project/PRS_benchmark/real_data/UKB/geno/Chinese_for_PCA/UKB_EAS_qc_final\n",
    "# for CAS\n",
    "# plink --bfile /data1/jiapl_group/lishuhua/project/PRS_benchmark/real_data/CAS/geno/CAS_for_PCA/CAS_qc_no_dups --exclude /data1/jiapl_group/lishuhua/project/PRS_benchmark/real_data/CAS/geno/CAS_for_PCA/incompatible_snps_to_exclude.txt --make-bed --out /data1/jiapl_group/lishuhua/project/PRS_benchmark/real_data/CAS/geno/CAS_for_PCA/CAS_qc_final\n",
    "# for 1KG\n",
    "# plink --bfile /data1/jiapl_group/lishuhua/project/PRS_benchmark/real_data/1kg/geno/geno_for_PCA/all_phase3_qc_no_dups --exclude /data1/jiapl_group/lishuhua/project/PRS_benchmark/real_data/1kg/geno/geno_for_PCA/incompatible_snps_to_exclude.txt --make-bed --out /data1/jiapl_group/lishuhua/project/PRS_benchmark/real_data/1kg/geno/geno_for_PCA/all_phase3_qc_final"
   ]
  },
  {
   "cell_type": "code",
   "execution_count": null,
   "id": "78745c58",
   "metadata": {},
   "outputs": [],
   "source": [
    "# step4: merge all cohorts\n",
    "# echo \"/data1/jiapl_group/lishuhua/project/PRS_benchmark/real_data/UKB/geno/Chinese_for_PCA/UKB_EAS_qc_final\" > /data1/jiapl_group/lishuhua/project/PRS_benchmark/real_data/Merge_CAS_UKB_1kg/merge_list.txt\n",
    "# echo \"/data1/jiapl_group/lishuhua/project/PRS_benchmark/real_data/CAS/geno/CAS_for_PCA/CAS_qc_final\" >> /data1/jiapl_group/lishuhua/project/PRS_benchmark/real_data/Merge_CAS_UKB_1kg/merge_list.txt\n",
    "# plink --bfile /data1/jiapl_group/lishuhua/project/PRS_benchmark/real_data/1kg/geno/geno_for_PCA/all_phase3_qc_final --merge-list /data1/jiapl_group/lishuhua/project/PRS_benchmark/real_data/Merge_CAS_UKB_1kg/merge_list.txt --make-bed --out /data1/jiapl_group/lishuhua/project/PRS_benchmark/real_data/Merge_CAS_UKB_1kg/temp_merged\n",
    "\n",
    "# step5: remove all multiallelic SNPs\n",
    "# plink --bfile /data1/jiapl_group/lishuhua/project/PRS_benchmark/real_data/UKB/geno/Chinese_for_PCA/UKB_EAS_qc_final --exclude /data1/jiapl_group/lishuhua/project/PRS_benchmark/real_data/Merge_CAS_UKB_1kg/temp_merged-merge.missnp --make-bed --out /data1/jiapl_group/lishuhua/project/PRS_benchmark/real_data/Merge_CAS_UKB_1kg/UKB_EAS_qc_final_no_multiallelic\n",
    "# plink --bfile /data1/jiapl_group/lishuhua/project/PRS_benchmark/real_data/CAS/geno/CAS_for_PCA/CAS_qc_final --exclude /data1/jiapl_group/lishuhua/project/PRS_benchmark/real_data/Merge_CAS_UKB_1kg/temp_merged-merge.missnp --make-bed --out /data1/jiapl_group/lishuhua/project/PRS_benchmark/real_data/Merge_CAS_UKB_1kg/CAS_qc_final_no_multiallelic\n",
    "# plink --bfile /data1/jiapl_group/lishuhua/project/PRS_benchmark/real_data/1kg/geno/geno_for_PCA/all_phase3_qc_final --exclude /data1/jiapl_group/lishuhua/project/PRS_benchmark/real_data/Merge_CAS_UKB_1kg/temp_merged-merge.missnp --make-bed --out /data1/jiapl_group/lishuhua/project/PRS_benchmark/real_data/Merge_CAS_UKB_1kg/all_phase3_qc_final_no_multiallelic\n",
    "\n",
    "# step6: merge all cohorts again\n",
    "# echo \"/data1/jiapl_group/lishuhua/project/PRS_benchmark/real_data/Merge_CAS_UKB_1kg/UKB_EAS_qc_final_no_multiallelic\" > /data1/jiapl_group/lishuhua/project/PRS_benchmark/real_data/Merge_CAS_UKB_1kg/merge_list_no_multiallelic.txt\n",
    "# echo \"/data1/jiapl_group/lishuhua/project/PRS_benchmark/real_data/Merge_CAS_UKB_1kg/CAS_qc_final_no_multiallelic\" >> /data1/jiapl_group/lishuhua/project/PRS_benchmark/real_data/Merge_CAS_UKB_1kg/merge_list_no_multiallelic.txt\n",
    "# plink --bfile /data1/jiapl_group/lishuhua/project/PRS_benchmark/real_data/Merge_CAS_UKB_1kg/all_phase3_qc_final_no_multiallelic --merge-list /data1/jiapl_group/lishuhua/project/PRS_benchmark/real_data/Merge_CAS_UKB_1kg/merge_list_no_multiallelic.txt --make-bed --out /data1/jiapl_group/lishuhua/project/PRS_benchmark/real_data/Merge_CAS_UKB_1kg/final_merged\n"
   ]
  },
  {
   "cell_type": "code",
   "execution_count": null,
   "id": "2b65a000",
   "metadata": {},
   "outputs": [],
   "source": [
    "# step7: create sample_list for 1kg, CAS, UKB_EAS\n",
    "# for 1kg\n",
    "# awk '{print $1, $2}' /data1/jiapl_group/lishuhua/project/PRS_benchmark/real_data/Merge_CAS_UKB_1kg/all_phase3_qc_final_no_multiallelic.fam > /data1/jiapl_group/lishuhua/project/PRS_benchmark/real_data/Merge_CAS_UKB_1kg/1kg_samples.txt\n",
    "# for CAS\n",
    "# awk '{print $1, $2}' /data1/jiapl_group/lishuhua/project/PRS_benchmark/real_data/Merge_CAS_UKB_1kg/CAS_qc_final_no_multiallelic.fam > /data1/jiapl_group/lishuhua/project/PRS_benchmark/real_data/Merge_CAS_UKB_1kg/CAS_samples.txt\n",
    "# for UKB_EAS\n",
    "# awk '{print $1, $2}' /data1/jiapl_group/lishuhua/project/PRS_benchmark/real_data/Merge_CAS_UKB_1kg/UKB_EAS_qc_final_no_multiallelic.fam > /data1/jiapl_group/lishuhua/project/PRS_benchmark/real_data/Merge_CAS_UKB_1kg/UKB_EAS_samples.txt\n",
    "# merge CAS and UKB_EAS sample lists\n",
    "# cat /data1/jiapl_group/lishuhua/project/PRS_benchmark/real_data/Merge_CAS_UKB_1kg/CAS_samples.txt /data1/jiapl_group/lishuhua/project/PRS_benchmark/real_data/Merge_CAS_UKB_1kg/UKB_EAS_samples.txt > /data1/jiapl_group/lishuhua/project/PRS_benchmark/real_data/Merge_CAS_UKB_1kg/CAS_UKB_samples.txt"
   ]
  },
  {
   "cell_type": "code",
   "execution_count": null,
   "id": "efe06413",
   "metadata": {},
   "outputs": [],
   "source": [
    "# step8: LD pruning in merged dataset\n",
    "# plink --bfile /data1/jiapl_group/lishuhua/project/PRS_benchmark/real_data/Merge_CAS_UKB_1kg/final_merged --indep-pairwise 50 5 0.2 --out /data1/jiapl_group/lishuhua/project/PRS_benchmark/real_data/Merge_CAS_UKB_1kg/final_merged_pruned\n",
    "# plink2 --bfile /data1/jiapl_group/lishuhua/project/PRS_benchmark/real_data/Merge_CAS_UKB_1kg/final_merged --extract /data1/jiapl_group/lishuhua/project/PRS_benchmark/real_data/Merge_CAS_UKB_1kg/final_merged_pruned.prune.in --make-bed --out /data1/jiapl_group/lishuhua/project/PRS_benchmark/real_data/Merge_CAS_UKB_1kg/final_for_pca\n",
    "\n",
    "# step9: caculate PCA !!! PLINK2 !!!\n",
    "# plink2 --bfile /data1/jiapl_group/lishuhua/project/PRS_benchmark/real_data/Merge_CAS_UKB_1kg/final_for_pca --pca 10 --out /data1/jiapl_group/lishuhua/project/PRS_benchmark/real_data/Merge_CAS_UKB_1kg/pca_results"
   ]
  },
  {
   "cell_type": "code",
   "execution_count": null,
   "id": "8c79c717",
   "metadata": {
    "vscode": {
     "languageId": "shellscript"
    }
   },
   "outputs": [],
   "source": [
    "#!/bin/bash\n",
    "### Another way to do PCA ###\n",
    "# --- 执行PCA和投影 (最新版语法) ---\n",
    "\n",
    "echo -e \"\\nStep 2: Starting PCA Projection Analysis (Latest PLINK 2 Syntax)...\"\n",
    "\n",
    "# 2a. LD剪枝(Pruning): 这一步保持不变\n",
    "echo \" -> Stage A: Defining PCA space on 1KG reference panel...\"\n",
    "echo \" --> 2a. Performing LD Pruning on 1KG samples...\"\n",
    "/data1/jiapl_group/lishuhua/software/general/plink2 --bfile /data1/jiapl_group/lishuhua/project/PRS_benchmark/real_data/Merge_CAS_UKB_1kg/final_merged \\\n",
    "--keep /data1/jiapl_group/lishuhua/project/PRS_benchmark/real_data/Merge_CAS_UKB_1kg/1kg_samples.txt \\\n",
    "--indep-pairwise 50 5 0.2 \\\n",
    "--out /data1/jiapl_group/lishuhua/project/PRS_benchmark/real_data/Merge_CAS_UKB_1kg/1kg_ref_pruned\n",
    "\n",
    "# 2b. 计算PC载荷(Loadings): 这是语法变化的地方\n",
    "# 我们不再使用 --write-coeffs，而是直接在 --pca 参数后加上 approx_wts\n",
    "# approx_wts 的意思是：执行近似PCA，并写入权重(weights)，也就是载荷(loadings)\n",
    "echo \" --> 2b. Calculating PC loadings from 1KG reference using new 'approx_wts' syntax...\"\n",
    "/data1/jiapl_group/lishuhua/software/general/plink2 --bfile /data1/jiapl_group/lishuhua/project/PRS_benchmark/real_data/Merge_CAS_UKB_1kg/final_merged \\\n",
    "--extract /data1/jiapl_group/lishuhua/project/PRS_benchmark/real_data/Merge_CAS_UKB_1kg/1kg_ref_pruned.prune.in \\\n",
    "--keep /data1/jiapl_group/lishuhua/project/PRS_benchmark/real_data/Merge_CAS_UKB_1kg/1kg_samples.txt \\\n",
    "--freq counts \\\n",
    "--nonfounders \\\n",
    "--pca 10 allele-wts \\\n",
    "--out 1kg_ref_pca"
   ]
  },
  {
   "cell_type": "code",
   "execution_count": null,
   "id": "1a572d40",
   "metadata": {
    "vscode": {
     "languageId": "shellscript"
    }
   },
   "outputs": [],
   "source": [
    "#!/bin/bash\n",
    "# --- 阶段二：投影您的队列样本 ---\n",
    "\n",
    "echo \"Step 1: Creating reference allele list from loadings file...\"\n",
    "awk 'NR>1 {print $2, $6}' 1kg_ref_pca.eigenvec.allele > reference_alleles_old.txt\n",
    "# remove the duplicated SNPs\n",
    "awk '!seen[$1]++' reference_alleles_old.txt > reference_alleles_old.txt\n",
    "\n",
    "# --ref-allele force <file> <ID_col> <allele_col>\n",
    "# force: 强制PLINK将文件中的等位基因设为A1\n",
    "# 1 2: 告诉PLINK，我们提供的文件里，第1列是SNP ID，第2列是我们要设为A1的等位基因\n",
    "echo \"Step 2: Creating a new, fully harmonized dataset...\"\n",
    "/data1/jiapl_group/lishuhua/software/general/plink2 --bfile /data1/jiapl_group/lishuhua/project/PRS_benchmark/real_data/Merge_CAS_UKB_1kg/final_merged \\\n",
    "--ref-allele force /data1/jiapl_group/lishuhua/project/PRS_benchmark/code/real_data/pca_code/reference_alleles_old.txt 2 1 \\\n",
    "--make-bed \\\n",
    "--out /data1/jiapl_group/lishuhua/project/PRS_benchmark/real_data/Merge_CAS_UKB_1kg/final_merged_harmonized\n",
    "\n",
    "echo \"Stage 2: Projecting local cohorts using '--score variance-standardize'...\"\n",
    "\n",
    "/data1/jiapl_group/lishuhua/software/general/plink2 --bfile /data1/jiapl_group/lishuhua/project/PRS_benchmark/real_data/Merge_CAS_UKB_1kg/final_merged_harmonized \\\n",
    "--keep /data1/jiapl_group/lishuhua/project/PRS_benchmark/real_data/Merge_CAS_UKB_1kg/CAS_UKB_samples.txt \\\n",
    "--read-freq 1kg_ref_pca.acount \\\n",
    "--score 1kg_ref_pca.eigenvec.allele 2 6 header-read no-mean-imputation variance-standardize \\\n",
    "--score-col-nums 7-16 \\\n",
    "--out /data1/jiapl_group/lishuhua/project/PRS_benchmark/real_data/Merge_CAS_UKB_1kg/CAS_UKB_pcs_projected"
   ]
  },
  {
   "cell_type": "code",
   "execution_count": null,
   "id": "79557712",
   "metadata": {
    "vscode": {
     "languageId": "shellscript"
    }
   },
   "outputs": [],
   "source": [
    "# check if there are batches in CAS and UKB samples\n",
    "echo \" -> Stage B: Checking for batch effects in CAS and UKB samples...\"\n",
    "/data1/jiapl_group/lishuhua/software/general/plink2 --bfile /data1/jiapl_group/lishuhua/project/PRS_benchmark/real_data/Merge_CAS_UKB_1kg/final_merged \\\n",
    "--keep "
   ]
  }
 ],
 "metadata": {
  "language_info": {
   "name": "python"
  }
 },
 "nbformat": 4,
 "nbformat_minor": 5
}
