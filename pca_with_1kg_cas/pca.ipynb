{
 "cells": [
  {
   "cell_type": "code",
   "execution_count": null,
   "id": "e51d453a",
   "metadata": {
    "vscode": {
     "languageId": "shellscript"
    }
   },
   "outputs": [],
   "source": [
    "#!/bin/bash\n",
    "# --- 阶段一：初始QC ---\n",
    "echo \"Stage 1: Performing initial QC on each dataset individually...\"\n",
    "\n",
    "# 定义一个包含所有数据集前缀的数组\n",
    "DATASETS=(\"/data1/jiapl_group/lishuhua/project/PRS_benchmark/real_data/CAS/geno/CAS_for_PCA/CAS_qc\" \"/data1/jiapl_group/lishuhua/project/PRS_benchmark/real_data/UKB/geno/Chinese_for_PCA/merged\" \"/data1/jiapl_group/lishuhua/project/PRS_benchmark/real_data/1kg/geno/geno_for_PCA/all_phase3_qc_auto_only\")\n",
    "\n",
    "for PREFIX in \"${DATASETS[@]}\"\n",
    "do\n",
    "    echo \" -> Processing: ${PREFIX}\"\n",
    "    /data1/jiapl_group/lishuhua/software/general/plink2 --bfile ${PREFIX} \\\n",
    "    --autosome \\\n",
    "    --maf 0.05 \\\n",
    "    --geno 0.02 \\\n",
    "    --mind 0.02 \\\n",
    "    --hwe 1e-6 \\\n",
    "    --snps-only just-acgt \\\n",
    "    --make-bed \\\n",
    "    --out ${PREFIX}_qc\n",
    "done\n",
    "\n",
    "echo \"Stage 1 complete.\"\n",
    "\n",
    "# --- 阶段二：SNP协调 ---\n",
    "echo -e \"\\nStage 2: SNP Harmonization...\"\n",
    "\n",
    "echo \" -> Step 2a: Finding intersection of SNPs across all datasets...\"\n",
    "# 从每个QC后的bim文件中提取SNP ID (第二列)\n",
    "awk '{print $2}' /data1/jiapl_group/lishuhua/project/PRS_benchmark/real_data/CAS/geno/CAS_for_PCA/CAS_qc_qc.bim > /data1/jiapl_group/lishuhua/project/PRS_benchmark/real_data/Merge_CAS_UKB_1kg/CAS.snps\n",
    "awk '{print $2}' /data1/jiapl_group/lishuhua/project/PRS_benchmark/real_data/UKB/geno/Chinese_for_PCA/merged_qc.bim > /data1/jiapl_group/lishuhua/project/PRS_benchmark/real_data/Merge_CAS_UKB_1kg/UKB_EAS.snps\n",
    "awk '{print $2}' /data1/jiapl_group/lishuhua/project/PRS_benchmark/real_data/1kg/geno/geno_for_PCA/all_phase3_qc_auto_only_qc.bim > /data1/jiapl_group/lishuhua/project/PRS_benchmark/real_data/Merge_CAS_UKB_1kg/1kg_eas.snps\n",
    "\n",
    "# 使用sort和comm命令找出三者的交集\n",
    "sort /data1/jiapl_group/lishuhua/project/PRS_benchmark/real_data/Merge_CAS_UKB_1kg/CAS.snps -o /data1/jiapl_group/lishuhua/project/PRS_benchmark/real_data/Merge_CAS_UKB_1kg/CAS.snps\n",
    "sort /data1/jiapl_group/lishuhua/project/PRS_benchmark/real_data/Merge_CAS_UKB_1kg/UKB_EAS.snps -o /data1/jiapl_group/lishuhua/project/PRS_benchmark/real_data/Merge_CAS_UKB_1kg/UKB_EAS.snps\n",
    "sort /data1/jiapl_group/lishuhua/project/PRS_benchmark/real_data/Merge_CAS_UKB_1kg/1kg_eas.snps -o /data1/jiapl_group/lishuhua/project/PRS_benchmark/real_data/Merge_CAS_UKB_1kg/1kg_eas.snps\n",
    "\n",
    "comm -12 /data1/jiapl_group/lishuhua/project/PRS_benchmark/real_data/Merge_CAS_UKB_1kg/CAS.snps /data1/jiapl_group/lishuhua/project/PRS_benchmark/real_data/Merge_CAS_UKB_1kg/UKB_EAS.snps > /data1/jiapl_group/lishuhua/project/PRS_benchmark/real_data/Merge_CAS_UKB_1kg/temp_common.snps\n",
    "comm -12 /data1/jiapl_group/lishuhua/project/PRS_benchmark/real_data/Merge_CAS_UKB_1kg/temp_common.snps /data1/jiapl_group/lishuhua/project/PRS_benchmark/real_data/Merge_CAS_UKB_1kg/1kg_eas.snps > /data1/jiapl_group/lishuhua/project/PRS_benchmark/real_data/Merge_CAS_UKB_1kg/common_snps.txt\n",
    "\n",
    "echo \" Found $(wc -l < /data1/jiapl_group/lishuhua/project/PRS_benchmark/real_data/Merge_CAS_UKB_1kg/common_snps.txt) common SNPs.\"\n",
    "\n",
    "echo \" -> Step 2b: Identifying and preparing to remove ambiguous A/T, C/G SNPs...\"\n",
    "# 我们以1KG作为参考标准来寻找歧义SNP\n",
    "awk '($5==\"A\" && $6==\"T\") || ($5==\"T\" && $6==\"A\") || ($5==\"C\" && $6==\"G\") || ($5==\"G\" && $6==\"C\") {print $2}' /data1/jiapl_group/lishuhua/project/PRS_benchmark/real_data/1kg/geno/geno_for_PCA/all_phase3_qc_auto_only_qc.bim > /data1/jiapl_group/lishuhua/project/PRS_benchmark/real_data/Merge_CAS_UKB_1kg/ambiguous_snps.txt\n",
    "\n",
    "# 使用grep从我们的共有SNP列表中移除这些歧义SNP，生成最终的“白名单”\n",
    "grep -vFf /data1/jiapl_group/lishuhua/project/PRS_benchmark/real_data/Merge_CAS_UKB_1kg/ambiguous_snps.txt /data1/jiapl_group/lishuhua/project/PRS_benchmark/real_data/Merge_CAS_UKB_1kg/common_snps.txt > /data1/jiapl_group/lishuhua/project/PRS_benchmark/real_data/Merge_CAS_UKB_1kg/final_snps_to_keep.txt\n",
    "\n",
    "echo \" After removing $(wc -l < /data1/jiapl_group/lishuhua/project/PRS_benchmark/real_data/Merge_CAS_UKB_1kg/ambiguous_snps.txt) ambiguous SNPs, we have $(wc -l < /data1/jiapl_group/lishuhua/project/PRS_benchmark/real_data/Merge_CAS_UKB_1kg/final_snps_to_keep.txt) high-quality SNPs to keep.\"\n",
    "\n",
    "echo \" -> Step 2c: Extracting final SNPs and harmonizing alleles...\"\n",
    "\n",
    "# 首先，处理参考队列(1KG)，只提取最终的SNP\n",
    "/data1/jiapl_group/lishuhua/software/general/plink2 --bfile /data1/jiapl_group/lishuhua/project/PRS_benchmark/real_data/1kg/geno/geno_for_PCA/all_phase3_qc_auto_only_qc \\\n",
    "--extract /data1/jiapl_group/lishuhua/project/PRS_benchmark/real_data/Merge_CAS_UKB_1kg/final_snps_to_keep.txt \\\n",
    "--make-bed \\\n",
    "--out /data1/jiapl_group/lishuhua/project/PRS_benchmark/real_data/1kg/geno/geno_for_PCA/1kg_eas_final\n",
    "\n",
    "# 然后，处理您的两个队列，在提取SNP的同时，强制其等位基因与1KG对齐\n",
    "# 创建一个参考等位基因文件\n",
    "awk '{print $2, $6}' /data1/jiapl_group/lishuhua/project/PRS_benchmark/real_data/1kg/geno/geno_for_PCA/1kg_eas_final.bim > /data1/jiapl_group/lishuhua/project/PRS_benchmark/real_data/Merge_CAS_UKB_1kg/reference_alleles.txt\n",
    "\n",
    "# 协调队列A\n",
    "/data1/jiapl_group/lishuhua/software/general/plink2 --bfile /data1/jiapl_group/lishuhua/project/PRS_benchmark/real_data/CAS/geno/CAS_for_PCA/CAS_qc_qc \\\n",
    "--extract /data1/jiapl_group/lishuhua/project/PRS_benchmark/real_data/Merge_CAS_UKB_1kg/final_snps_to_keep.txt \\\n",
    "--ref-allele force /data1/jiapl_group/lishuhua/project/PRS_benchmark/real_data/Merge_CAS_UKB_1kg/reference_alleles.txt 2 1 \\\n",
    "--make-bed \\\n",
    "--out /data1/jiapl_group/lishuhua/project/PRS_benchmark/real_data/CAS/geno/CAS_for_PCA/CAS_final\n",
    "\n",
    "# 协调队列B\n",
    "/data1/jiapl_group/lishuhua/software/general/plink2 --bfile /data1/jiapl_group/lishuhua/project/PRS_benchmark/real_data/UKB/geno/Chinese_for_PCA/merged_qc \\\n",
    "--extract /data1/jiapl_group/lishuhua/project/PRS_benchmark/real_data/Merge_CAS_UKB_1kg/final_snps_to_keep.txt \\\n",
    "--ref-allele force /data1/jiapl_group/lishuhua/project/PRS_benchmark/real_data/Merge_CAS_UKB_1kg/reference_alleles.txt 2 1 \\\n",
    "--make-bed \\\n",
    "--out /data1/jiapl_group/lishuhua/project/PRS_benchmark/real_data/UKB/geno/Chinese_for_PCA/merged_final\n",
    "\n",
    "echo \"Stage 2 complete. All datasets are now harmonized.\"\n",
    "\n",
    "# --- 阶段三：合并与验证 ---\n",
    "echo -e \"\\nStage 3: Merging harmonized data and re-running sanity check PCA...\"\n",
    "\n",
    "# 创建合并列表\n",
    "echo \"/data1/jiapl_group/lishuhua/project/PRS_benchmark/real_data/CAS/geno/CAS_for_PCA/CAS_final\" > /data1/jiapl_group/lishuhua/project/PRS_benchmark/real_data/Merge_CAS_UKB_1kg/merge_list.txt\n",
    "echo \"/data1/jiapl_group/lishuhua/project/PRS_benchmark/real_data/UKB/geno/Chinese_for_PCA/merged_final\" >> /data1/jiapl_group/lishuhua/project/PRS_benchmark/real_data/Merge_CAS_UKB_1kg/merge_list.txt\n",
    "\n",
    "# 进行合并（这一步因为之前的严格协调，很可能直接成功，或只有极少量missnp）\n",
    "/data1/jiapl_group/lishuhua/software/general/plink --bfile /data1/jiapl_group/lishuhua/project/PRS_benchmark/real_data/1kg/geno/geno_for_PCA/1kg_eas_final \\\n",
    "--merge-list /data1/jiapl_group/lishuhua/project/PRS_benchmark/real_data/Merge_CAS_UKB_1kg/merge_list.txt \\\n",
    "--make-bed \\\n",
    "--out /data1/jiapl_group/lishuhua/project/PRS_benchmark/real_data/Merge_CAS_UKB_1kg/ALL_merged_rigorous_qc"
   ]
  },
  {
   "cell_type": "code",
   "execution_count": null,
   "id": "fd72608c",
   "metadata": {
    "vscode": {
     "languageId": "shellscript"
    }
   },
   "outputs": [],
   "source": [
    "/data1/jiapl_group/lishuhua/software/general/plink --bfile /data1/jiapl_group/lishuhua/project/PRS_benchmark/real_data/1kg/geno/geno_for_PCA/1kg_eas_final --exclude /data1/jiapl_group/lishuhua/project/PRS_benchmark/real_data/Merge_CAS_UKB_1kg/ALL_merged_rigorous_qc-merge.missnp --make-bed --out /data1/jiapl_group/lishuhua/project/PRS_benchmark/real_data/1kg/geno/geno_for_PCA/1kg_eas_final_no_missnp\n",
    "/data1/jiapl_group/lishuhua/software/general/plink --bfile /data1/jiapl_group/lishuhua/project/PRS_benchmark/real_data/CAS/geno/CAS_for_PCA/CAS_final --exclude /data1/jiapl_group/lishuhua/project/PRS_benchmark/real_data/Merge_CAS_UKB_1kg/ALL_merged_rigorous_qc-merge.missnp --make-bed --out /data1/jiapl_group/lishuhua/project/PRS_benchmark/real_data/CAS/geno/CAS_for_PCA/CAS_final_no_missnp\n",
    "/data1/jiapl_group/lishuhua/software/general/plink --bfile /data1/jiapl_group/lishuhua/project/PRS_benchmark/real_data/UKB/geno/Chinese_for_PCA/merged_final --exclude /data1/jiapl_group/lishuhua/project/PRS_benchmark/real_data/Merge_CAS_UKB_1kg/ALL_merged_rigorous_qc-merge.missnp --make-bed --out /data1/jiapl_group/lishuhua/project/PRS_benchmark/real_data/UKB/geno/Chinese_for_PCA/merged_final_no_missnp\n",
    "\n",
    "# 创建合并列表\n",
    "echo \"/data1/jiapl_group/lishuhua/project/PRS_benchmark/real_data/CAS/geno/CAS_for_PCA/CAS_final_no_missnp\" > /data1/jiapl_group/lishuhua/project/PRS_benchmark/real_data/Merge_CAS_UKB_1kg/merge_list.txt\n",
    "echo \"/data1/jiapl_group/lishuhua/project/PRS_benchmark/real_data/UKB/geno/Chinese_for_PCA/merged_final_no_missnp\" >> /data1/jiapl_group/lishuhua/project/PRS_benchmark/real_data/Merge_CAS_UKB_1kg/merge_list.txt\n",
    "\n",
    "# 进行合并（这一步因为之前的严格协调，很可能直接成功，或只有极少量missnp）\n",
    "/data1/jiapl_group/lishuhua/software/general/plink --bfile /data1/jiapl_group/lishuhua/project/PRS_benchmark/real_data/1kg/geno/geno_for_PCA/1kg_eas_final_no_missnp \\\n",
    "--merge-list /data1/jiapl_group/lishuhua/project/PRS_benchmark/real_data/Merge_CAS_UKB_1kg/merge_list.txt \\\n",
    "--make-bed \\\n",
    "--out /data1/jiapl_group/lishuhua/project/PRS_benchmark/real_data/Merge_CAS_UKB_1kg/ALL_merged_rigorous_qc_final"
   ]
  },
  {
   "cell_type": "code",
   "execution_count": null,
   "id": "9a04c35c",
   "metadata": {
    "vscode": {
     "languageId": "shellscript"
    }
   },
   "outputs": [],
   "source": [
    "# step8: LD pruning in merged dataset\n",
    "# plink --bfile /data1/jiapl_group/lishuhua/project/PRS_benchmark/real_data/Merge_CAS_UKB_1kg/ALL_merged_rigorous_qc_final --indep-pairwise 50 5 0.2 --out /data1/jiapl_group/lishuhua/project/PRS_benchmark/real_data/Merge_CAS_UKB_1kg/ALL_merged_rigorous_qc_final_pruned\n",
    "# plink2 --bfile /data1/jiapl_group/lishuhua/project/PRS_benchmark/real_data/Merge_CAS_UKB_1kg/ALL_merged_rigorous_qc_final --extract /data1/jiapl_group/lishuhua/project/PRS_benchmark/real_data/Merge_CAS_UKB_1kg/ALL_merged_rigorous_qc_final_pruned.prune.in --make-bed --out /data1/jiapl_group/lishuhua/project/PRS_benchmark/real_data/Merge_CAS_UKB_1kg/ALL_merged_rigorous_qc_final_for_pca\n",
    "\n",
    "# step9: caculate PCA !!! PLINK2 !!!\n",
    "# plink2 --bfile /data1/jiapl_group/lishuhua/project/PRS_benchmark/real_data/Merge_CAS_UKB_1kg/ALL_merged_rigorous_qc_final_for_pca --pca 10 --out /data1/jiapl_group/lishuhua/project/PRS_benchmark/real_data/Merge_CAS_UKB_1kg/new_pca_results"
   ]
  },
  {
   "cell_type": "code",
   "execution_count": null,
   "id": "da0a412a",
   "metadata": {
    "vscode": {
     "languageId": "shellscript"
    }
   },
   "outputs": [],
   "source": [
    "#!/bin/bash\n",
    "### Another way to do PCA ###\n",
    "# --- 执行PCA和投影 (最新版语法) ---\n",
    "\n",
    "echo -e \"\\nStep 2: Starting PCA Projection Analysis (Latest PLINK 2 Syntax)...\"\n",
    "\n",
    "# 2a. LD剪枝(Pruning): 这一步保持不变\n",
    "echo \" -> Stage A: Defining PCA space on 1KG reference panel...\"\n",
    "echo \" --> 2a. Performing LD Pruning on 1KG samples...\"\n",
    "/data1/jiapl_group/lishuhua/software/general/plink2 --bfile /data1/jiapl_group/lishuhua/project/PRS_benchmark/real_data/Merge_CAS_UKB_1kg/ALL_merged_rigorous_qc_final \\\n",
    "--keep /data1/jiapl_group/lishuhua/project/PRS_benchmark/real_data/Merge_CAS_UKB_1kg/1kg_samples.txt \\\n",
    "--indep-pairwise 50 5 0.2 \\\n",
    "--out /data1/jiapl_group/lishuhua/project/PRS_benchmark/real_data/Merge_CAS_UKB_1kg/1kg_ref_pruned_2\n",
    "\n",
    "# 2b. 计算PC载荷(Loadings): 这是语法变化的地方\n",
    "# 我们不再使用 --write-coeffs，而是直接在 --pca 参数后加上 approx_wts\n",
    "# approx_wts 的意思是：执行近似PCA，并写入权重(weights)，也就是载荷(loadings)\n",
    "echo \" --> 2b. Calculating PC loadings from 1KG reference using new 'approx_wts' syntax...\"\n",
    "/data1/jiapl_group/lishuhua/software/general/plink2 --bfile /data1/jiapl_group/lishuhua/project/PRS_benchmark/real_data/Merge_CAS_UKB_1kg/ALL_merged_rigorous_qc_final \\\n",
    "--extract /data1/jiapl_group/lishuhua/project/PRS_benchmark/real_data/Merge_CAS_UKB_1kg/1kg_ref_pruned_2.prune.in \\\n",
    "--keep /data1/jiapl_group/lishuhua/project/PRS_benchmark/real_data/Merge_CAS_UKB_1kg/1kg_samples.txt \\\n",
    "--freq counts \\\n",
    "--nonfounders \\\n",
    "--pca 10 allele-wts \\\n",
    "--out 1kg_ref_pca_2\n",
    "\n",
    "echo \"Stage 2: Projecting local cohorts using '--score variance-standardize'...\"\n",
    "\n",
    "/data1/jiapl_group/lishuhua/software/general/plink2 --bfile /data1/jiapl_group/lishuhua/project/PRS_benchmark/real_data/Merge_CAS_UKB_1kg/ALL_merged_rigorous_qc_final \\\n",
    "--keep /data1/jiapl_group/lishuhua/project/PRS_benchmark/real_data/Merge_CAS_UKB_1kg/CAS_UKB_samples.txt \\\n",
    "--read-freq 1kg_ref_pca_2.acount \\\n",
    "--score 1kg_ref_pca_2.eigenvec.allele 2 6 header-read no-mean-imputation variance-standardize \\\n",
    "--score-col-nums 7-16 \\\n",
    "--out /data1/jiapl_group/lishuhua/project/PRS_benchmark/real_data/Merge_CAS_UKB_1kg/CAS_UKB_pcs_projected_2"
   ]
  }
 ],
 "metadata": {
  "language_info": {
   "name": "python"
  }
 },
 "nbformat": 4,
 "nbformat_minor": 5
}
