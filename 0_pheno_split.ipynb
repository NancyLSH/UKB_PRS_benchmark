{
 "cells": [
  {
   "cell_type": "code",
   "execution_count": 1,
   "id": "67459ada",
   "metadata": {},
   "outputs": [],
   "source": [
    "import pandas as pd\n",
    "import os\n",
    "import sys"
   ]
  },
  {
   "cell_type": "code",
   "execution_count": 13,
   "id": "cb642602",
   "metadata": {},
   "outputs": [
    {
     "name": "stdout",
     "output_type": "stream",
     "text": [
      "Processing group 13 - part 1\n",
      "Field IDs: ['2877', '2887', '2897', '2907', '2926']\n",
      "Processing group 13 - part 2\n",
      "Field IDs: ['2936', '2946', '2956', '2966', '2976']\n",
      "Processing group 13 - part 3\n",
      "Field IDs: ['2986', '3005', '3059', '3060', '3061']\n",
      "Processing group 13 - part 4\n",
      "Field IDs: ['3062', '3063', '3064', '3065', '3066']\n",
      "Processing group 14 - part 1\n",
      "Field IDs: ['3077', '3079', '3081', '3082', '3083']\n",
      "Processing group 14 - part 2\n",
      "Field IDs: ['3084', '3085', '3086', '3088', '3089']\n",
      "Processing group 14 - part 3\n",
      "Field IDs: ['3090', '3132', '3137', '3140', '3143']\n",
      "Processing group 14 - part 4\n",
      "Field IDs: ['3144', '3146', '3147', '3148', '3159']\n",
      "Processing group 20 - part 1\n",
      "Field IDs: ['4233', '4234', '4235', '4236', '4237']\n",
      "Processing group 20 - part 2\n",
      "Field IDs: ['4238', '4239', '4240', '4241', '4242']\n",
      "Processing group 20 - part 3\n",
      "Field IDs: ['4243', '4244', '4245', '4246', '4247']\n",
      "Processing group 20 - part 4\n",
      "Field IDs: ['4248', '4249', '4250', '4251', '4252']\n",
      "Processing group 26 - part 1\n",
      "Field IDs: ['5912', '5923', '5934', '5945', '5959']\n",
      "Processing group 26 - part 2\n",
      "Field IDs: ['5983', '5984', '5985', '5986', '5987']\n",
      "Processing group 26 - part 3\n",
      "Field IDs: ['5988', '5990', '5991', '5992', '5993']\n",
      "Processing group 26 - part 4\n",
      "Field IDs: ['6014', '6015', '6016', '6017', '6019']\n",
      "Processing group 29 - part 1\n",
      "Field IDs: ['6218', '6219', '6220', '6221', '6222']\n",
      "Processing group 29 - part 2\n",
      "Field IDs: ['6312', '6313', '6314', '6315', '6317']\n",
      "Processing group 29 - part 3\n",
      "Field IDs: ['6332', '6333', '6334', '6348', '6349']\n",
      "Processing group 29 - part 4\n",
      "Field IDs: ['6350', '6351', '6364', '6365', '6373']\n"
     ]
    }
   ],
   "source": [
    "split_group_list = [\"13\", \"14\", \"20\", \"26\", \"29\"]\n",
    "merged_fields = pd.read_csv(\"../data/pheno/merged_fields.tsv\", sep=\"\\t\", header=0)\n",
    "merge_field_list = merged_fields[\"field_id\"].tolist()\n",
    "# cut the recommended fields list for 20 fields each group\n",
    "merge_field_list = [merge_field_list[i:i + 20] for i in range(0, len(merge_field_list), 20)]\n",
    "for i in range(len(split_group_list)):\n",
    "    group_str = split_group_list[i]\n",
    "    group_num = int(group_str) - 1\n",
    "    field_list = merge_field_list[group_num]\n",
    "    field_list = [str(x) for x in field_list]\n",
    "    # split field_list into four groups (each with 5 fields)\n",
    "    temp_group_1 = field_list[:5]\n",
    "    temp_group_2 = field_list[5:10]\n",
    "    temp_group_3 = field_list[10:15]\n",
    "    temp_group_4 = field_list[15:20]\n",
    "    for j, group in enumerate([temp_group_1, temp_group_2, temp_group_3, temp_group_4]):\n",
    "        print(f\"Processing group {group_str} - part {j + 1}\")\n",
    "        print(f\"Field IDs: {group}\")\n",
    "        # get_ids = sum([field_names_for_id(field_id) for field_id in group], [])\n",
    "        # field_names = ['eid'] + get_ids\n",
    "        # df = participant.retrieve_fields(names=field_names, engine=connection)\n",
    "        # data = df.toPandas()\n",
    "        # display(data)\n",
    "        # # save the data to a file\n",
    "        # # if the file already exists, continue to the next iteration\n",
    "        # data.to_csv(f'./core_category/fields_group_{group_str}_{j + 1}.tsv', sep='\\t', index=False, header=True)\n",
    "        # # Upload the file using subprocess\n",
    "        # subprocess.run([\n",
    "        #     \"dx\", \"upload\", f\"./core_category/fields_group_{group_str}_{j+1}.tsv\",\n",
    "        #     \"-p\", \"--path\", \"/Output/Traits/core_category/\", \"--brief\"\n",
    "        # ], check=True)"
   ]
  },
  {
   "cell_type": "code",
   "execution_count": null,
   "id": "3ce8eeab",
   "metadata": {},
   "outputs": [],
   "source": [
    "Processing group 13 - part 4\n",
    "Field IDs: ['3062', '3063', '3064', '3065', '3066']"
   ]
  }
 ],
 "metadata": {
  "kernelspec": {
   "display_name": "base",
   "language": "python",
   "name": "python3"
  },
  "language_info": {
   "codemirror_mode": {
    "name": "ipython",
    "version": 3
   },
   "file_extension": ".py",
   "mimetype": "text/x-python",
   "name": "python",
   "nbconvert_exporter": "python",
   "pygments_lexer": "ipython3",
   "version": "3.11.3"
  }
 },
 "nbformat": 4,
 "nbformat_minor": 5
}
